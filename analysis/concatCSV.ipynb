{
 "cells": [
  {
   "cell_type": "code",
   "execution_count": 42,
   "metadata": {
    "collapsed": false
   },
   "outputs": [],
   "source": [
    "import os\n",
    "import pandas as pd\n",
    "import re\n",
    "import numpy as np\n",
    "import itertools\n",
    "import csv\n",
    "\n",
    "directory = os.path.join(\"output\")\n",
    "combinedOutput = \"output_combined.csv\"\n",
    "\n",
    "count = 0\n",
    "pattern = re.compile(\"output\")\n",
    "for root,dirs,files in os.walk(directory):\n",
    "    for file in files:\n",
    "        if  not pattern.match(file): \n",
    "            continue\n",
    "        fileAppend = \"output/\" + file\n",
    "        if count == 0: \n",
    "            totalData = pd.read_csv(fileAppend)\n",
    "            count +=1\n",
    "        else:\n",
    "            loadData = pd.read_csv(fileAppend)\n",
    "            if not loadData.empty:\n",
    "                totalData = totalData.append(loadData)"
   ]
  },
  {
   "cell_type": "code",
   "execution_count": 43,
   "metadata": {
    "collapsed": false
   },
   "outputs": [],
   "source": [
    "Ns, Ks, Ds = np.unique(totalData[\"n\"].values),np.unique(totalData[\"k\"].values), np.unique(totalData[\"d\"].values)\n",
    "alg, nodes, tasks, gpu = np.unique(totalData[\"algorithm\"].values),np.unique(totalData[\"Nodes N\"].values), np.unique(totalData[\"Nodes n\"].values), np.unique(totalData[\"GPUs\"].values)\n"
   ]
  },
  {
   "cell_type": "code",
   "execution_count": 44,
   "metadata": {
    "collapsed": false
   },
   "outputs": [],
   "source": [
    "newArray = [[\"Algorithm\",\"N\", \"D\",\"K\",\"processes\",\"problemSize\",\"time\", \"GFLOPs\"]]\n",
    "for N, D, K, T, A in [x for x in list(itertools.product(Ns, Ds, Ks, tasks, alg))]:\n",
    "    problemParams = [A,N,D,K,T, N*D*K]\n",
    "    whichVals = (totalData[\"n\"] == N) & (totalData[\"d\"] == D) & (totalData[\"k\"] == K) & (totalData[\"algorithm\"] == A) & (totalData[\"Nodes n\"] == T)\n",
    "    if not np.any(whichVals): continue\n",
    "    ops = N*K*(D*3-1) * np.mean(totalData[\"convergence\"][whichVals].values)/1E9\n",
    "    time = np.mean(totalData[\"time\"][whichVals].values)\n",
    "    newArray.append(problemParams +  [time] + [ops/time])"
   ]
  },
  {
   "cell_type": "code",
   "execution_count": 45,
   "metadata": {
    "collapsed": false
   },
   "outputs": [],
   "source": [
    "with open(combinedOutput, 'w') as f:\n",
    "        writer = csv.writer(f, delimiter=',')\n",
    "        writer.writerows([o for o in newArray])\n",
    "        f.close()"
   ]
  },
  {
   "cell_type": "code",
   "execution_count": null,
   "metadata": {
    "collapsed": false
   },
   "outputs": [],
   "source": []
  },
  {
   "cell_type": "code",
   "execution_count": null,
   "metadata": {
    "collapsed": true
   },
   "outputs": [],
   "source": []
  }
 ],
 "metadata": {
  "anaconda-cloud": {},
  "kernelspec": {
   "display_name": "Python [conda root]",
   "language": "python",
   "name": "conda-root-py"
  },
  "language_info": {
   "codemirror_mode": {
    "name": "ipython",
    "version": 3
   },
   "file_extension": ".py",
   "mimetype": "text/x-python",
   "name": "python",
   "nbconvert_exporter": "python",
   "pygments_lexer": "ipython3",
   "version": "3.5.2"
  }
 },
 "nbformat": 4,
 "nbformat_minor": 1
}
